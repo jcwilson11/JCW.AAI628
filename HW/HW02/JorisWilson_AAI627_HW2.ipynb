{
 "cells": [
  {
   "cell_type": "markdown",
   "id": "1656def1",
   "metadata": {},
   "source": [
    "## Part A"
   ]
  },
  {
   "cell_type": "code",
   "execution_count": 1,
   "id": "c7b5b2c3",
   "metadata": {},
   "outputs": [],
   "source": [
    "import numpy as np\n",
    "\n",
    "def my_bag_of_words(text, words_to_index, dict_size):\n",
    "    \"\"\"\n",
    "    text: a string\n",
    "    words_to_index: dict mapping word -> integer index in the vector\n",
    "    dict_size: size of the dictionary\n",
    "\n",
    "    return a vector which is a bag-of-words representation of 'text'\n",
    "    \"\"\"\n",
    "    result_vector = np.zeros(dict_size, dtype=np.int64)\n",
    "    for token in text.lower().split():\n",
    "        if token in words_to_index:\n",
    "            result_vector[words_to_index[token]] += 1\n",
    "    return result_vector\n"
   ]
  },
  {
   "cell_type": "code",
   "execution_count": null,
   "id": "bf7d3c38",
   "metadata": {},
   "outputs": [
    {
     "name": "stdout",
     "output_type": "stream",
     "text": [
      "words_to_index: {'hi': 0, 'you': 1, 'me': 2, 'are': 3}\n",
      "Text: 'hi how are you'\n",
      "Bag-of-Words vector: [1, 1, 0, 1]\n"
     ]
    }
   ],
   "source": [
    "# Example usage\n",
    "vocab_list = ['hi', 'you', 'me', 'are']\n",
    "words_to_index = {w: i for i, w in enumerate(vocab_list)}\n",
    "dict_size = 4\n",
    "\n",
    "text = \"hi how are you\"\n",
    "bow_vector = my_bag_of_words(text, words_to_index, dict_size)\n",
    "print(\"words_to_index:\", words_to_index)\n",
    "print(\"Text:\", repr(text))\n",
    "print(\"Bag-of-Words vector:\", bow_vector.tolist())\n"
   ]
  },
  {
   "cell_type": "code",
   "execution_count": 4,
   "id": "6455d9af",
   "metadata": {},
   "outputs": [
    {
     "name": "stdout",
     "output_type": "stream",
     "text": [
      "words_to_index: {'my': 0, 'laptop': 1, 'is': 2, 'lenovo': 3}\n",
      "Text: 'my laptop is Lenovo'\n",
      "Bag-of-Words vector: [1, 1, 1, 1]\n",
      "words_to_index: {'Chipotle': 0, 'is': 1, 'very': 2, 'good': 3}\n",
      "Text: 'Chipotle is not very very good'\n",
      "Bag-of-Words vector: [0, 1, 2, 1]\n"
     ]
    }
   ],
   "source": [
    "# my test cases\n",
    "vocab_list = ['my', 'laptop', 'is', 'lenovo']\n",
    "words_to_index = {w: i for i, w in enumerate(vocab_list)}\n",
    "dict_size = 4\n",
    "\n",
    "text = \"my laptop is Lenovo\"  # note: my_bag_of_words lowercases tokens, so 'Lenovo' -> 'lenovo'\n",
    "bow_vector = my_bag_of_words(text, words_to_index, dict_size)\n",
    "print(\"words_to_index:\", words_to_index)\n",
    "print(\"Text:\", repr(text))\n",
    "print(\"Bag-of-Words vector:\", bow_vector.tolist())\n",
    "\n",
    "vocab_list = ['Chipotle', 'is', 'very', 'good']\n",
    "words_to_index = {w: i for i, w in enumerate(vocab_list)}\n",
    "dict_size = 4\n",
    "text = \"Chipotle is not very very good\"\n",
    "bow_vector = my_bag_of_words(text, words_to_index, dict_size)\n",
    "print(\"words_to_index:\", words_to_index)\n",
    "print(\"Text:\", repr(text))\n",
    "print(\"Bag-of-Words vector:\", bow_vector.tolist())"
   ]
  }
 ],
 "metadata": {
  "kernelspec": {
   "display_name": "AAI627",
   "language": "python",
   "name": "python3"
  },
  "language_info": {
   "codemirror_mode": {
    "name": "ipython",
    "version": 3
   },
   "file_extension": ".py",
   "mimetype": "text/x-python",
   "name": "python",
   "nbconvert_exporter": "python",
   "pygments_lexer": "ipython3",
   "version": "3.12.11"
  }
 },
 "nbformat": 4,
 "nbformat_minor": 5
}
